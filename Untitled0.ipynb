{
  "nbformat": 4,
  "nbformat_minor": 0,
  "metadata": {
    "colab": {
      "private_outputs": true,
      "provenance": [],
      "authorship_tag": "ABX9TyOrPy9X7DziSKD2ETdmwmDZ",
      "include_colab_link": true
    },
    "kernelspec": {
      "name": "python3",
      "display_name": "Python 3"
    },
    "language_info": {
      "name": "python"
    }
  },
  "cells": [
    {
      "cell_type": "markdown",
      "metadata": {
        "id": "view-in-github",
        "colab_type": "text"
      },
      "source": [
        "<a href=\"https://colab.research.google.com/github/hakjong123/Introduction0518/blob/main/Untitled0.ipynb\" target=\"_parent\"><img src=\"https://colab.research.google.com/assets/colab-badge.svg\" alt=\"Open In Colab\"/></a>"
      ]
    },
    {
      "cell_type": "code",
      "execution_count": null,
      "metadata": {
        "id": "Q1k_DP7EsMB8"
      },
      "outputs": [],
      "source": [
        "from google.colab import drive\n",
        "drive.mount('/content/drive')"
      ]
    },
    {
      "cell_type": "code",
      "source": [
        "import pathlib\n",
        "import matplotlib.pyplot as plt\n",
        "import pandas as pd\n",
        "import seaborn as sns\n",
        "import tensorflow as tf\n",
        "from tensorflow import keras\n",
        "from tensorflow.keras import layers"
      ],
      "metadata": {
        "id": "zDZRRKfh5W6f"
      },
      "execution_count": null,
      "outputs": []
    },
    {
      "cell_type": "code",
      "source": [
        "dataset_path=keras.utils.get_file(\"auto-mpg.data\",\"http://archive.ics.uci.edu/ml/machine-learning-databases/auto-mpg/auto-mpg.data\")\n",
        "dataset_path"
      ],
      "metadata": {
        "id": "Txc5gKBe6PsO"
      },
      "execution_count": null,
      "outputs": []
    },
    {
      "cell_type": "code",
      "source": [
        "column_names=['MPG','Cylinders','Displacement','Horespower','Weight','Acceleration','Model Year','Origin']\n",
        "raw_dataset=pd.read_csv(dataset_path,names=column_names, na_values=\"?\", comment='\\t', sep=\" \", skipinitialspace=True)\n",
        "\n",
        "dataset=raw_dataset.copy()\n",
        "dataset.tail()"
      ],
      "metadata": {
        "id": "h8CqahPy6y9k"
      },
      "execution_count": null,
      "outputs": []
    },
    {
      "cell_type": "code",
      "source": [
        "dataset.isna().sum()"
      ],
      "metadata": {
        "id": "D8wT2Ala9K5O"
      },
      "execution_count": null,
      "outputs": []
    },
    {
      "cell_type": "code",
      "source": [
        "dataset=dataset.dropna()"
      ],
      "metadata": {
        "id": "d2yrhW-1_wSM"
      },
      "execution_count": null,
      "outputs": []
    },
    {
      "cell_type": "code",
      "source": [
        "origin=dataset.pop('Origin')"
      ],
      "metadata": {
        "id": "jXRwwt2DAEzE"
      },
      "execution_count": null,
      "outputs": []
    },
    {
      "cell_type": "code",
      "source": [
        "dataset['USA']=(origin==1)*1\n",
        "dataset['Europe']=(origin==2)*1\n",
        "dataset['Japan']=(origin==3)*1"
      ],
      "metadata": {
        "id": "sPPfelD3Axss"
      },
      "execution_count": null,
      "outputs": []
    },
    {
      "cell_type": "code",
      "source": [
        "dataset.tail()"
      ],
      "metadata": {
        "id": "0f3p3YBiDgTL"
      },
      "execution_count": null,
      "outputs": []
    },
    {
      "cell_type": "code",
      "source": [
        "train_dataset=dataset.sample(frac=0.8,random_satate=0)"
      ],
      "metadata": {
        "id": "7Of7hKPVDuV7"
      },
      "execution_count": null,
      "outputs": []
    },
    {
      "cell_type": "code",
      "source": [
        "train_dataset=dataset.sample(frac=0.8,random_state=0)\n",
        "test_dataset=dataset.drop(train_dataset.index)"
      ],
      "metadata": {
        "id": "fjeM7LOaE9Lb"
      },
      "execution_count": null,
      "outputs": []
    },
    {
      "cell_type": "code",
      "source": [
        "sns.pairplot(train_dataset[[\"MPG\",\"Cylinders\",\"Acceleration\",\"Horespower\"]],diag_kind='hist')"
      ],
      "metadata": {
        "id": "gP-d1a3OFDrC"
      },
      "execution_count": null,
      "outputs": []
    },
    {
      "cell_type": "code",
      "source": [
        "train_stats=train_dataset.describe()\n",
        "train_stats.pop(\"MPG\")\n",
        "train_stats=train_stats.transpose()"
      ],
      "metadata": {
        "id": "Rt2uWL8wFg27"
      },
      "execution_count": null,
      "outputs": []
    },
    {
      "cell_type": "code",
      "source": [
        "train_stats"
      ],
      "metadata": {
        "id": "jYFrkj7bGS-T"
      },
      "execution_count": null,
      "outputs": []
    },
    {
      "cell_type": "code",
      "source": [
        "def norm(x):return(x-train_stats['mean'])/train_stats['std']\n",
        "normed_train_data=norm(train_dataset)"
      ],
      "metadata": {
        "id": "axPOLbERGkEC"
      },
      "execution_count": null,
      "outputs": []
    },
    {
      "cell_type": "code",
      "source": [
        "normed_test_data=norm(test_dataset)"
      ],
      "metadata": {
        "id": "qOeHv1tXHw5M"
      },
      "execution_count": null,
      "outputs": []
    },
    {
      "cell_type": "code",
      "source": [
        "train_labels=train_dataset.pop('MPG')\n",
        "test_labels=test_dataset.pop('MPG')"
      ],
      "metadata": {
        "id": "JDrrfwNAH0sm"
      },
      "execution_count": null,
      "outputs": []
    },
    {
      "cell_type": "code",
      "source": [
        "from keras.engine.training import Model\n",
        "def build_model():\n",
        "  model= keras.Sequential([\n",
        "      layers.Dense(64, activation='relu',input_shape=[len(train_dataset.keys())]),\n",
        "      layers.Dense(64, activation='relu'),\n",
        "      layers.Dense(1)])\n",
        "  \n",
        "  model.compile(loss='mse',\n",
        "                optimizer='adam',\n",
        "                metrics=['mae','mse'])\n",
        "  return model\n",
        "\n",
        "model=build_model()  \n"
      ],
      "metadata": {
        "id": "MEAVLY8ZIDmf"
      },
      "execution_count": null,
      "outputs": []
    },
    {
      "cell_type": "code",
      "source": [
        "(model.summary())"
      ],
      "metadata": {
        "id": "-mB8bGQRODos"
      },
      "execution_count": null,
      "outputs": []
    },
    {
      "cell_type": "code",
      "source": [
        "example_batch=normed_train_data[:10]\n",
        "example_result=model.predict(example_batch)\n",
        "example_result"
      ],
      "metadata": {
        "id": "i0O5b-7zS0jt"
      },
      "execution_count": null,
      "outputs": []
    },
    {
      "cell_type": "code",
      "source": [
        "class PrintDot(keras.callbacks.Callback):\n",
        "  def on_epoch_end(self, epoch, logs):\n",
        "    if epoch % 100 ==0: print('')\n",
        "    print('.', end='')\n",
        "EPOCHS=1000\n",
        "\n",
        "history=model.fit(\n",
        "    normed_train_data, train_labels, epochs=EPOCHS, validation_split=0.2, verbose=0, callbacks=[PrintDot()]\n",
        ")"
      ],
      "metadata": {
        "id": "azm27BP0TPEm"
      },
      "execution_count": null,
      "outputs": []
    },
    {
      "cell_type": "code",
      "source": [
        "hist=pd.DataFrame(history.history)\n",
        "hist['epoch']=history.epoch\n",
        "hist.tail()"
      ],
      "metadata": {
        "id": "tWpL2FIYaNc6"
      },
      "execution_count": null,
      "outputs": []
    },
    {
      "cell_type": "code",
      "source": [],
      "metadata": {
        "id": "RHi4_XrKdux1"
      },
      "execution_count": null,
      "outputs": []
    }
  ]
}